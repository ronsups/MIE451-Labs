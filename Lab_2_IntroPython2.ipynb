{
 "cells": [
  {
   "cell_type": "markdown",
   "metadata": {},
   "source": [
    "# Lab 2"
   ]
  },
  {
   "cell_type": "markdown",
   "metadata": {},
   "source": [
    "## Range"
   ]
  },
  {
   "cell_type": "markdown",
   "metadata": {},
   "source": [
    "The function **``range(x,y)``** will return the range between x to y-1."
   ]
  },
  {
   "cell_type": "code",
   "execution_count": 43,
   "metadata": {},
   "outputs": [
    {
     "name": "stdout",
     "output_type": "stream",
     "text": [
      "1\n",
      "2\n",
      "3\n",
      "4\n"
     ]
    }
   ],
   "source": [
    "for num in range(1,5):\n",
    "    print(num)"
   ]
  },
  {
   "cell_type": "markdown",
   "metadata": {},
   "source": [
    "however, range is lazily evaluated:"
   ]
  },
  {
   "cell_type": "code",
   "execution_count": 44,
   "metadata": {},
   "outputs": [
    {
     "data": {
      "text/plain": [
       "range(1, 5)"
      ]
     },
     "execution_count": 44,
     "metadata": {},
     "output_type": "execute_result"
    }
   ],
   "source": [
    "range(1,5)"
   ]
  },
  {
   "cell_type": "code",
   "execution_count": 45,
   "metadata": {},
   "outputs": [
    {
     "name": "stdout",
     "output_type": "stream",
     "text": [
      "range(1, 5)\n"
     ]
    }
   ],
   "source": [
    "print(range(1,5))"
   ]
  },
  {
   "cell_type": "code",
   "execution_count": 46,
   "metadata": {},
   "outputs": [
    {
     "data": {
      "text/plain": [
       "[1, 2, 3, 4]"
      ]
     },
     "execution_count": 46,
     "metadata": {},
     "output_type": "execute_result"
    }
   ],
   "source": [
    "list(range(1,5))"
   ]
  },
  {
   "cell_type": "markdown",
   "metadata": {},
   "source": [
    "***Exercise:***\n",
    "\n",
    "1. The function range has a third argument z: ```range(x,y,z)```. Find out what does it do?"
   ]
  },
  {
   "cell_type": "code",
   "execution_count": 47,
   "metadata": {},
   "outputs": [
    {
     "data": {
      "text/plain": [
       "[1, 3, 5, 7, 9]"
      ]
     },
     "execution_count": 47,
     "metadata": {},
     "output_type": "execute_result"
    }
   ],
   "source": [
    "list(range(1,11,2))"
   ]
  },
  {
   "cell_type": "markdown",
   "metadata": {},
   "source": [
    "## Map"
   ]
  },
  {
   "cell_type": "markdown",
   "metadata": {},
   "source": [
    "map applies a function to all items in a list:\n",
    "\n",
    "```map(func, input_list)```"
   ]
  },
  {
   "cell_type": "code",
   "execution_count": 48,
   "metadata": {},
   "outputs": [
    {
     "name": "stdout",
     "output_type": "stream",
     "text": [
      "[1, 4, 9, 16, 25]\n"
     ]
    }
   ],
   "source": [
    "items = [1, 2, 3, 4, 5]\n",
    "squaredItems = []\n",
    "for item in items:\n",
    "    squaredItems.append(item**2)\n",
    "\n",
    "print(squaredItems)"
   ]
  },
  {
   "cell_type": "code",
   "execution_count": 49,
   "metadata": {},
   "outputs": [
    {
     "name": "stdout",
     "output_type": "stream",
     "text": [
      "[1, 4, 9, 16, 25]\n"
     ]
    }
   ],
   "source": [
    "def square(num):\n",
    "    return num**2\n",
    "\n",
    "items = [1, 2, 3, 4, 5]\n",
    "squaredItems = list(map(square, items))\n",
    "print(squaredItems)"
   ]
  },
  {
   "cell_type": "code",
   "execution_count": 50,
   "metadata": {},
   "outputs": [
    {
     "name": "stdout",
     "output_type": "stream",
     "text": [
      "[1, 4, 9, 16, 25]\n"
     ]
    }
   ],
   "source": [
    "squaredItems = list(map(square, range(1,6)))\n",
    "print(squaredItems)"
   ]
  },
  {
   "cell_type": "markdown",
   "metadata": {},
   "source": [
    "**Map is lazy:**"
   ]
  },
  {
   "cell_type": "code",
   "execution_count": 51,
   "metadata": {},
   "outputs": [
    {
     "data": {
      "text/plain": [
       "<map at 0x206c7b51f60>"
      ]
     },
     "execution_count": 51,
     "metadata": {},
     "output_type": "execute_result"
    }
   ],
   "source": [
    "map(square, range(1,6))"
   ]
  },
  {
   "cell_type": "code",
   "execution_count": 52,
   "metadata": {},
   "outputs": [
    {
     "name": "stdout",
     "output_type": "stream",
     "text": [
      "<map object at 0x00000206C8EAEEF0>\n"
     ]
    }
   ],
   "source": [
    "print(map(square, range(1,6)))"
   ]
  },
  {
   "cell_type": "code",
   "execution_count": 53,
   "metadata": {},
   "outputs": [
    {
     "data": {
      "text/plain": [
       "[1, 4, 9, 16, 25]"
      ]
     },
     "execution_count": 53,
     "metadata": {},
     "output_type": "execute_result"
    }
   ],
   "source": [
    "list(map(square, range(1,6)))"
   ]
  },
  {
   "cell_type": "markdown",
   "metadata": {},
   "source": [
    "***Exercise:***\n",
    "\n",
    "Write a function that takes a list of strings, and returns a list of the lengths of the strings.\n",
    "\n",
    "For example, ```listLengths([\"dog\", \"cat\", \"donkey\", \"elephant\"]``` should return ```[3, 3, 6, 8]```"
   ]
  },
  {
   "cell_type": "code",
   "execution_count": 54,
   "metadata": {
    "collapsed": true
   },
   "outputs": [],
   "source": [
    "def listLength(stringList):\n",
    "    return list(map(lambda s: len(s), stringList))"
   ]
  },
  {
   "cell_type": "code",
   "execution_count": 55,
   "metadata": {},
   "outputs": [
    {
     "data": {
      "text/plain": [
       "[3, 3, 6, 8]"
      ]
     },
     "execution_count": 55,
     "metadata": {},
     "output_type": "execute_result"
    }
   ],
   "source": [
    "listLength([\"dog\", \"cat\", \"donkey\", \"elephant\"])"
   ]
  },
  {
   "cell_type": "markdown",
   "metadata": {},
   "source": [
    "## Lambda functions\n",
    "\n",
    "A short form of writing simple return-based functions"
   ]
  },
  {
   "cell_type": "code",
   "execution_count": 56,
   "metadata": {
    "collapsed": true
   },
   "outputs": [],
   "source": [
    "def longMultiply(num):\n",
    "    return num * 2\n",
    "\n",
    "shortMultiply = lambda num: num * 2"
   ]
  },
  {
   "cell_type": "code",
   "execution_count": 57,
   "metadata": {},
   "outputs": [
    {
     "data": {
      "text/plain": [
       "10"
      ]
     },
     "execution_count": 57,
     "metadata": {},
     "output_type": "execute_result"
    }
   ],
   "source": [
    "longMultiply(5)"
   ]
  },
  {
   "cell_type": "code",
   "execution_count": 58,
   "metadata": {},
   "outputs": [
    {
     "data": {
      "text/plain": [
       "10"
      ]
     },
     "execution_count": 58,
     "metadata": {},
     "output_type": "execute_result"
    }
   ],
   "source": [
    "shortMultiply(5)"
   ]
  },
  {
   "cell_type": "code",
   "execution_count": 59,
   "metadata": {},
   "outputs": [
    {
     "data": {
      "text/plain": [
       "True"
      ]
     },
     "execution_count": 59,
     "metadata": {},
     "output_type": "execute_result"
    }
   ],
   "source": [
    "longMultiply(5) == shortMultiply(5)"
   ]
  },
  {
   "cell_type": "markdown",
   "metadata": {},
   "source": [
    "An easier way of writing maps:"
   ]
  },
  {
   "cell_type": "code",
   "execution_count": 60,
   "metadata": {},
   "outputs": [
    {
     "data": {
      "text/plain": [
       "[2, 3, 4, 5]"
      ]
     },
     "execution_count": 60,
     "metadata": {},
     "output_type": "execute_result"
    }
   ],
   "source": [
    "list(map(lambda x: x+1, range(1,5)))"
   ]
  },
  {
   "cell_type": "code",
   "execution_count": 61,
   "metadata": {},
   "outputs": [
    {
     "data": {
      "text/plain": [
       "True"
      ]
     },
     "execution_count": 61,
     "metadata": {},
     "output_type": "execute_result"
    }
   ],
   "source": [
    "list(map(lambda x: x+1, range(1,5))) == list(range(2,6))"
   ]
  },
  {
   "cell_type": "markdown",
   "metadata": {},
   "source": [
    "***Exercise:***\n",
    "\n",
    "Write the square example (above) using lambda functions"
   ]
  },
  {
   "cell_type": "code",
   "execution_count": 62,
   "metadata": {},
   "outputs": [
    {
     "data": {
      "text/plain": [
       "[1, 4, 9, 16, 25]"
      ]
     },
     "execution_count": 62,
     "metadata": {},
     "output_type": "execute_result"
    }
   ],
   "source": [
    "list(map(lambda x: x**2, range(1,6)))"
   ]
  },
  {
   "cell_type": "markdown",
   "metadata": {},
   "source": [
    "## Filter"
   ]
  },
  {
   "cell_type": "code",
   "execution_count": 63,
   "metadata": {},
   "outputs": [
    {
     "name": "stdout",
     "output_type": "stream",
     "text": [
      "[1, 3, 5]\n"
     ]
    }
   ],
   "source": [
    "items = [1, 2, 3, 4, 5]\n",
    "oddItems = []\n",
    "for item in items:\n",
    "    if item % 2 != 0:\n",
    "        oddItems.append(item)\n",
    "\n",
    "print(oddItems)"
   ]
  },
  {
   "cell_type": "code",
   "execution_count": 64,
   "metadata": {},
   "outputs": [
    {
     "name": "stdout",
     "output_type": "stream",
     "text": [
      "[1, 3, 5]\n"
     ]
    }
   ],
   "source": [
    "def isOdd(num):\n",
    "    if num % 2 != 0:\n",
    "        return True\n",
    "    else:\n",
    "        return False\n",
    "\n",
    "items = [1, 2, 3, 4, 5]\n",
    "oddItems = list(filter(isOdd, items))\n",
    "print(oddItems)"
   ]
  },
  {
   "cell_type": "markdown",
   "metadata": {},
   "source": [
    "Note that ``num % 2 != 0`` is a boolean expression (evaluates to True or False)"
   ]
  },
  {
   "cell_type": "code",
   "execution_count": 65,
   "metadata": {},
   "outputs": [
    {
     "data": {
      "text/plain": [
       "False"
      ]
     },
     "execution_count": 65,
     "metadata": {},
     "output_type": "execute_result"
    }
   ],
   "source": [
    "num % 2 != 0"
   ]
  },
  {
   "cell_type": "code",
   "execution_count": 66,
   "metadata": {},
   "outputs": [
    {
     "name": "stdout",
     "output_type": "stream",
     "text": [
      "[1, 3, 5]\n"
     ]
    }
   ],
   "source": [
    "def isOdd(num):\n",
    "    return num % 2 != 0\n",
    "\n",
    "items = [1, 2, 3, 4, 5]\n",
    "oddItems = list(filter(isOdd, items))\n",
    "print(oddItems)"
   ]
  },
  {
   "cell_type": "code",
   "execution_count": 67,
   "metadata": {},
   "outputs": [
    {
     "name": "stdout",
     "output_type": "stream",
     "text": [
      "[1, 3, 5]\n"
     ]
    }
   ],
   "source": [
    "oddItems = list(filter(lambda num: num % 2 != 0, range(1, 6)))\n",
    "print(oddItems)"
   ]
  },
  {
   "cell_type": "markdown",
   "metadata": {},
   "source": [
    "***Exercise:***\n",
    "\n",
    "Write a code that takes in a list ```range(1,6)``` and output a list of the squared numbers that are also odd. Use only map, filter, and lambda functions"
   ]
  },
  {
   "cell_type": "code",
   "execution_count": 68,
   "metadata": {},
   "outputs": [
    {
     "data": {
      "text/plain": [
       "[1, 9, 25]"
      ]
     },
     "execution_count": 68,
     "metadata": {},
     "output_type": "execute_result"
    }
   ],
   "source": [
    "list(filter(lambda num: num % 2 != 0, map(lambda x: x**2, range(1,6))))"
   ]
  },
  {
   "cell_type": "markdown",
   "metadata": {},
   "source": [
    "## List comprehensions"
   ]
  },
  {
   "cell_type": "code",
   "execution_count": 69,
   "metadata": {},
   "outputs": [
    {
     "data": {
      "text/plain": [
       "[1, 4, 9, 16, 25]"
      ]
     },
     "execution_count": 69,
     "metadata": {},
     "output_type": "execute_result"
    }
   ],
   "source": [
    "[num**2 for num in range(1,6)]"
   ]
  },
  {
   "cell_type": "code",
   "execution_count": 70,
   "metadata": {},
   "outputs": [
    {
     "data": {
      "text/plain": [
       "[1, 9, 25]"
      ]
     },
     "execution_count": 70,
     "metadata": {},
     "output_type": "execute_result"
    }
   ],
   "source": [
    "[num**2 for num in range(1,6) if num % 2 != 0]"
   ]
  },
  {
   "cell_type": "code",
   "execution_count": 71,
   "metadata": {},
   "outputs": [
    {
     "data": {
      "text/plain": [
       "[1, 0, 9, 0, 25]"
      ]
     },
     "execution_count": 71,
     "metadata": {},
     "output_type": "execute_result"
    }
   ],
   "source": [
    "[num**2 if (num % 2 != 0) else 0 for num in range(1,6)]"
   ]
  },
  {
   "cell_type": "markdown",
   "metadata": {},
   "source": [
    "***Exercise:***\n",
    "\n",
    "Using list comprehensions, write a code that takes a list of names and returns a list of \"Hello <name>\" for each name that has more than 6 characters."
   ]
  },
  {
   "cell_type": "code",
   "execution_count": 91,
   "metadata": {},
   "outputs": [
    {
     "data": {
      "text/plain": [
       "['Hello longname2', 'Hello verylongname3', 'Hello longlonglong5']"
      ]
     },
     "execution_count": 91,
     "metadata": {},
     "output_type": "execute_result"
    }
   ],
   "source": [
    "names = [\"name1\", \"longname2\", \"verylongname3\", \"name4\", \"longlonglong5\"]\n",
    "\n",
    "['Hello ' + name for name in names if len(name)>6]"
   ]
  },
  {
   "cell_type": "markdown",
   "metadata": {},
   "source": [
    "## Zip"
   ]
  },
  {
   "cell_type": "code",
   "execution_count": 73,
   "metadata": {
    "collapsed": true
   },
   "outputs": [],
   "source": [
    "names = [\"Alice\", \"Bob\", \"Carol\", \"David\", \"Eve\"]\n",
    "cities = [\"Toronto\", \"Vancouver\", \"Calgary\", \"Montreal\"]"
   ]
  },
  {
   "cell_type": "code",
   "execution_count": 74,
   "metadata": {},
   "outputs": [
    {
     "data": {
      "text/plain": [
       "<zip at 0x206c8f18048>"
      ]
     },
     "execution_count": 74,
     "metadata": {},
     "output_type": "execute_result"
    }
   ],
   "source": [
    "zip(names, cities)"
   ]
  },
  {
   "cell_type": "markdown",
   "metadata": {},
   "source": [
    "Zip is lazy too!"
   ]
  },
  {
   "cell_type": "code",
   "execution_count": 75,
   "metadata": {},
   "outputs": [
    {
     "data": {
      "text/plain": [
       "[('Alice', 'Toronto'),\n",
       " ('Bob', 'Vancouver'),\n",
       " ('Carol', 'Calgary'),\n",
       " ('David', 'Montreal')]"
      ]
     },
     "execution_count": 75,
     "metadata": {},
     "output_type": "execute_result"
    }
   ],
   "source": [
    "list(zip(names, cities))"
   ]
  },
  {
   "cell_type": "code",
   "execution_count": 76,
   "metadata": {},
   "outputs": [
    {
     "name": "stdout",
     "output_type": "stream",
     "text": [
      "Hello Alice from Toronto\n",
      "Hello Bob from Vancouver\n",
      "Hello Carol from Calgary\n",
      "Hello David from Montreal\n"
     ]
    }
   ],
   "source": [
    "for name, city in list(zip(names, cities)):\n",
    "    print (\"Hello\", name, \"from\", city)"
   ]
  },
  {
   "cell_type": "code",
   "execution_count": 77,
   "metadata": {},
   "outputs": [
    {
     "name": "stdout",
     "output_type": "stream",
     "text": [
      "Hello Alice\n",
      "Good Morning Bob\n",
      "Have a great day Carol\n"
     ]
    }
   ],
   "source": [
    "names = [\"Alice\", \"Bob\", \"Carol\", \"David\", \"Eve\"]\n",
    "greetings = [\"Hello\", \"Good Morning\", \"Have a great day\"]\n",
    "\n",
    "for greeting, name in list(zip(greetings, names)):\n",
    "    print (greeting, name)"
   ]
  },
  {
   "cell_type": "markdown",
   "metadata": {},
   "source": [
    "## Interactivity using ipywidgets"
   ]
  },
  {
   "cell_type": "code",
   "execution_count": 78,
   "metadata": {
    "collapsed": true
   },
   "outputs": [],
   "source": [
    "import ipywidgets as widgets\n",
    "from IPython.display import display"
   ]
  },
  {
   "cell_type": "code",
   "execution_count": 79,
   "metadata": {},
   "outputs": [
    {
     "data": {
      "application/vnd.jupyter.widget-view+json": {
       "model_id": "77e2abfea57c43baa2c379746f0e2832"
      }
     },
     "metadata": {},
     "output_type": "display_data"
    }
   ],
   "source": [
    "int_range = widgets.IntSlider(\n",
    "    value=7,\n",
    "    min=0,\n",
    "    max=10,\n",
    "    step=1,\n",
    "    description='Test:',\n",
    "    disabled=False,\n",
    "    continuous_update=True,\n",
    "    orientation='horizontal',\n",
    "    readout=True,\n",
    "    readout_format='.1f'\n",
    ")\n",
    "\n",
    "display(int_range)"
   ]
  },
  {
   "cell_type": "code",
   "execution_count": 80,
   "metadata": {},
   "outputs": [
    {
     "data": {
      "application/vnd.jupyter.widget-view+json": {
       "model_id": "27a03df0c17d49cc96c4e4cea162d472"
      }
     },
     "metadata": {},
     "output_type": "display_data"
    },
    {
     "name": "stdout",
     "output_type": "stream",
     "text": [
      "1\n",
      "2\n",
      "11\n",
      "42\n",
      "44\n",
      "62\n",
      "75\n",
      "84\n",
      "82\n",
      "46\n",
      "43\n",
      "69\n",
      "76\n",
      "54\n",
      "46\n",
      "50\n",
      "75\n"
     ]
    }
   ],
   "source": [
    "int_range = widgets.IntSlider()\n",
    "\n",
    "def on_value_change(change):\n",
    "    print(change['new'])\n",
    "\n",
    "int_range.observe(on_value_change, names='value')\n",
    "display(int_range)"
   ]
  },
  {
   "cell_type": "code",
   "execution_count": 81,
   "metadata": {},
   "outputs": [
    {
     "data": {
      "application/vnd.jupyter.widget-view+json": {
       "model_id": "a54a421b2ee646239e746b025ed9f1f3"
      }
     },
     "metadata": {},
     "output_type": "display_data"
    },
    {
     "data": {
      "application/vnd.jupyter.widget-view+json": {
       "model_id": "1de1dddbbb3948efadba4595b19c9af4"
      }
     },
     "metadata": {},
     "output_type": "display_data"
    }
   ],
   "source": [
    "int_range = widgets.IntSlider()\n",
    "\n",
    "caption = widgets.Label(value='Start moving the slider', layout=widgets.Layout(width='100%'))\n",
    "\n",
    "def on_value_change(change):\n",
    "    caption.value = \"The squared value is: \" + str(change['new']**2)\n",
    "\n",
    "int_range.observe(on_value_change, names='value')\n",
    "display(int_range, caption)"
   ]
  },
  {
   "cell_type": "code",
   "execution_count": 92,
   "metadata": {},
   "outputs": [
    {
     "data": {
      "application/vnd.jupyter.widget-view+json": {
       "model_id": "f60e01d711414beb8115c7ff37c9fb12"
      }
     },
     "metadata": {},
     "output_type": "display_data"
    },
    {
     "data": {
      "application/vnd.jupyter.widget-view+json": {
       "model_id": "54a2f4ac1c19410691eadc165301e531"
      }
     },
     "metadata": {},
     "output_type": "display_data"
    }
   ],
   "source": [
    "int_range = widgets.IntSlider(value=0,\n",
    "                              min=0,\n",
    "                              max=10,\n",
    "                              step=1)\n",
    "drop_down = widgets.Dropdown(options=[])\n",
    "\n",
    "def on_value_change(change):\n",
    "    drop_down.options = list(range(0, change['new']))\n",
    "\n",
    "int_range.observe(on_value_change, names='value')\n",
    "display(int_range, drop_down)"
   ]
  },
  {
   "cell_type": "code",
   "execution_count": 93,
   "metadata": {},
   "outputs": [
    {
     "data": {
      "application/vnd.jupyter.widget-view+json": {
       "model_id": "37444ed565644ce89c7193a8f96fc770"
      }
     },
     "metadata": {},
     "output_type": "display_data"
    },
    {
     "data": {
      "application/vnd.jupyter.widget-view+json": {
       "model_id": "843146c4000144f2818f6d99c08a6f7b"
      }
     },
     "metadata": {},
     "output_type": "display_data"
    },
    {
     "data": {
      "application/vnd.jupyter.widget-view+json": {
       "model_id": "2a9aa6e303bc406fa6652e553c374072"
      }
     },
     "metadata": {},
     "output_type": "display_data"
    }
   ],
   "source": [
    "int_range = widgets.IntSlider(value=1,\n",
    "                              min=1,\n",
    "                              max=10,\n",
    "                              step=1,\n",
    "                              description=\"# of Options:\"\n",
    "                             )\n",
    "drop_down = widgets.Dropdown(description=\"Available Options:\", options=[0])\n",
    "caption = widgets.Label(value='Chosen value: 0', layout=widgets.Layout(width='100%'))\n",
    "\n",
    "def on_value_change(change):\n",
    "    drop_down.options = list(range(0, change['new']))\n",
    "\n",
    "int_range.observe(on_value_change, names='value')\n",
    "\n",
    "def on_dropdown_value_change(change):\n",
    "    caption.value = \"Chosen value: \" + str(change['new'])\n",
    "drop_down.observe(on_dropdown_value_change, names='value')\n",
    "\n",
    "display(int_range, drop_down, caption)"
   ]
  },
  {
   "cell_type": "markdown",
   "metadata": {},
   "source": [
    "**Exercise:**\n",
    "Build an interactive app that has:\n",
    "1. a slider that allows you to select a number N of most common words to analyze.\n",
    "2. a drop down that always has a list of the N most common words (N based on the slider).\n",
    "3. a caption that has the index of first occurrence of the selected word in the drop-down.\n",
    "\n",
    "You can use the provided text:"
   ]
  },
  {
   "cell_type": "code",
   "execution_count": 94,
   "metadata": {
    "collapsed": true
   },
   "outputs": [],
   "source": [
    "TEXT = \"\"\"\n",
    "Lorem ipsum dolor sit amet, consectetur adipiscing elit. Donec quis diam in quam lacinia sollicitudin ac id purus. Donec euismod sollicitudin mauris nec congue. Sed et euismod leo. Phasellus luctus placerat pretium. Maecenas sit amet blandit velit. Cras aliquet velit dolor, ut maximus ligula ultricies sed. Aliquam dictum vestibulum elit sit amet finibus. In mattis euismod ligula, vitae bibendum enim. Nullam ac velit metus. Nam vitae fermentum ipsum, nec volutpat leo. Pellentesque posuere sed libero at posuere. Lorem ipsum dolor sit amet, consectetur adipiscing elit. Sed a sapien mi. Maecenas laoreet, orci a porta ultrices, sapien massa luctus magna, vitae vulputate mauris justo efficitur leo.\n",
    "\n",
    "Morbi dignissim rhoncus neque, ut laoreet ex pharetra vitae. Nulla pretium pretium erat a eleifend. Ut vitae cursus libero. Etiam at dui eleifend purus semper pellentesque. Curabitur vitae magna nisl. Nullam aliquam, nunc sollicitudin feugiat ultricies, ligula enim congue leo, a malesuada metus lectus id erat. Praesent quis massa lobortis, vehicula turpis vitae, malesuada lacus. Nullam venenatis nisi at tellus fringilla, dictum eleifend elit convallis. Class aptent taciti sociosqu ad litora torquent per conubia nostra, per inceptos himenaeos. Vivamus sed eros vel massa faucibus vestibulum eget ut turpis.\n",
    "\n",
    "Etiam non elit sed turpis consectetur blandit. Aenean maximus auctor ex pretium tincidunt. Fusce nunc neque, consequat vel mattis ac, laoreet quis felis. Nam fringilla malesuada turpis et sollicitudin. Praesent imperdiet pellentesque ante sit amet elementum. Interdum et malesuada fames ac ante ipsum primis in faucibus. Phasellus malesuada neque sit amet risus sagittis euismod. In sed purus vitae augue cursus congue. Curabitur eget libero tincidunt, posuere turpis sed, suscipit sem. Donec gravida ligula eget nunc consectetur, a vestibulum purus pharetra. Nulla molestie posuere elit, id vehicula lorem. Ut hendrerit lacus ac sem vehicula viverra. Maecenas bibendum ex sed ipsum tempor congue. Nulla facilisi.\n",
    "\n",
    "Maecenas finibus volutpat feugiat. Mauris luctus odio vel nisl euismod, vel dignissim lorem pharetra. Proin vehicula neque ex, id auctor arcu malesuada eget. Sed interdum, sapien vitae sollicitudin dignissim, neque diam sollicitudin augue, consequat pretium nulla dolor ut justo. Pellentesque sit amet posuere nisl. Aenean molestie maximus dapibus. Pellentesque ac condimentum velit, at ornare odio. Aenean pulvinar dolor nec ultrices bibendum. Morbi sit amet ante at enim pretium blandit a a orci. Maecenas venenatis nisi nisi, et pulvinar ante mattis eu. Ut sed elementum est. Donec in bibendum leo. Sed quis congue urna. Quisque id gravida lectus.\n",
    "\n",
    "Sed at arcu risus. Donec tempor luctus commodo. Phasellus fermentum ipsum dapibus justo consequat mattis. Curabitur iaculis, purus et rhoncus tincidunt, quam nisi dignissim ex, a ornare urna tellus et nulla. Suspendisse eget tempus velit, sit amet semper justo. Nulla porttitor, lacus eget dapibus tincidunt, augue elit scelerisque quam, vel scelerisque justo sapien at felis. Vivamus mollis metus mauris, et hendrerit sapien consectetur sed. Lorem ipsum dolor sit amet, consectetur adipiscing elit. Nullam ex orci, consequat vitae felis at, consectetur mollis nulla. Sed quis auctor velit. Ut semper nec metus sit amet finibus. \n",
    "\"\"\""
   ]
  },
  {
   "cell_type": "code",
   "execution_count": 95,
   "metadata": {},
   "outputs": [],
   "source": [
    "# IR \n",
    "wordList = [word.strip(\"\"\" ,.*()[]!@#$%^&*{}?'`\"-\"\"\").lower() for word in TEXT.split()]\n",
    "wordCounts = {word: wordList.count(word) for word in wordList}\n",
    "sortedWordCounts = sorted(wordCounts, key=lambda word: wordCounts[word], reverse=True)"
   ]
  },
  {
   "cell_type": "code",
   "execution_count": 96,
   "metadata": {},
   "outputs": [],
   "source": [
    "# WIDGETS\n",
    "title = widgets.Label(value='# of Most Common Words To Display', layout=widgets.Layout(width='100%'))\n",
    "caption = widgets.Label(value='Index of first occurrence of selected word:', layout=widgets.Layout(width='100%'))\n",
    "slider = widgets.IntSlider(value=0,min=0,max=len(wordCounts.items()),step=1)\n",
    "drop_down = widgets.Dropdown(description=\"Most Common Words:\", options=[0])"
   ]
  },
  {
   "cell_type": "code",
   "execution_count": 101,
   "metadata": {},
   "outputs": [],
   "source": [
    "# EVENT LISTENERS\n",
    "def on_value_change(change):\n",
    "    drop_down.options = most_common_words(change['new'])\n",
    "\n",
    "def on_dropdown_value_change(change):\n",
    "    caption.value = \"Index of first occurrence of selected word: \" + str(findIndex(change['new']))\n",
    "\n",
    "slider.observe(on_value_change, names='value')\n",
    "drop_down.observe(on_dropdown_value_change, names='value')"
   ]
  },
  {
   "cell_type": "code",
   "execution_count": 103,
   "metadata": {},
   "outputs": [
    {
     "data": {
      "application/vnd.jupyter.widget-view+json": {
       "model_id": "64393b81fc5a402c99f5463f116cf79a"
      }
     },
     "metadata": {},
     "output_type": "display_data"
    },
    {
     "data": {
      "application/vnd.jupyter.widget-view+json": {
       "model_id": "6b5cfd179f114a69a3b7f9d99a55cc8d"
      }
     },
     "metadata": {},
     "output_type": "display_data"
    },
    {
     "data": {
      "application/vnd.jupyter.widget-view+json": {
       "model_id": "e1b4258d25db45a98861a544edad2358"
      }
     },
     "metadata": {},
     "output_type": "display_data"
    },
    {
     "data": {
      "application/vnd.jupyter.widget-view+json": {
       "model_id": "b8c9ef80fa1c481d8e49d1968085da34"
      }
     },
     "metadata": {},
     "output_type": "display_data"
    }
   ],
   "source": [
    "# IR FUNCTIONS    \n",
    "def most_common_words(num):\n",
    "    return sortedWordCounts[:num]\n",
    "\n",
    "def findIndex(word):\n",
    "    return wordList.index(word)\n",
    "    \n",
    "display(title,slider,drop_down,caption)"
   ]
  },
  {
   "cell_type": "markdown",
   "metadata": {},
   "source": [
    "***Bonus***: Use a range instead of a threshold. A slider will let you choose upper bound UB and lower bound LB on the word rank, and the drop down will show all the words that are between UP most common word to the LB most common word. \n",
    "\n",
    "**Hint:** see IntRangeSlider in the documentation."
   ]
  },
  {
   "cell_type": "code",
   "execution_count": 104,
   "metadata": {
    "collapsed": true
   },
   "outputs": [],
   "source": [
    "# WIDGETS\n",
    "bonus_title = widgets.Label(value='Range of Most Common Words To Display', layout=widgets.Layout(width='100%'))\n",
    "bonus_caption = widgets.Label(value='Index of first occurrence of selected word:', layout=widgets.Layout(width='100%'))\n",
    "bonus_slider = widgets.IntRangeSlider(value=[0,10],min=0,max=len(wordCounts.items()),step=1)\n",
    "bonus_drop_down = widgets.Dropdown(description=\"Most Common Words:\", options=[0])"
   ]
  },
  {
   "cell_type": "code",
   "execution_count": 105,
   "metadata": {},
   "outputs": [
    {
     "data": {
      "application/vnd.jupyter.widget-view+json": {
       "model_id": "8539bbd02ea94787b9bd16eb075aa5b2"
      }
     },
     "metadata": {},
     "output_type": "display_data"
    },
    {
     "data": {
      "application/vnd.jupyter.widget-view+json": {
       "model_id": "ead33edaa9b54b6194e97db13f427f9d"
      }
     },
     "metadata": {},
     "output_type": "display_data"
    },
    {
     "data": {
      "application/vnd.jupyter.widget-view+json": {
       "model_id": "7366a4c6e9f64406a275a12923dc51be"
      }
     },
     "metadata": {},
     "output_type": "display_data"
    },
    {
     "data": {
      "application/vnd.jupyter.widget-view+json": {
       "model_id": "5376143905314eaf9bdef318f1de18e9"
      }
     },
     "metadata": {},
     "output_type": "display_data"
    }
   ],
   "source": [
    "# IR FUNCTION\n",
    "def bonus_most_common_words(lb,ub):\n",
    "    return sortedWordCounts[lb:ub+1]\n",
    "\n",
    "# EVENT LISTENERS\n",
    "def bonus_on_value_change(change):\n",
    "    bonus_drop_down.options = bonus_most_common_words(change['new'][0],change['new'][1])\n",
    "\n",
    "def bonus_on_dropdown_value_change(change):\n",
    "    bonus_caption.value = \"Index of first occurrence of selected word: \" + str(findIndex(change['new']))\n",
    "\n",
    "bonus_slider.observe(bonus_on_value_change, names='value')\n",
    "bonus_drop_down.observe(bonus_on_dropdown_value_change, names='value')\n",
    "display(bonus_title,bonus_slider,bonus_drop_down,bonus_caption)"
   ]
  },
  {
   "cell_type": "markdown",
   "metadata": {},
   "source": [
    "Helpful Links (ipywidgets):\n",
    "1. Documentation: https://ipywidgets.readthedocs.io/en/stable/\n",
    "2. Examples: https://github.com/jupyter-widgets/ipywidgets/blob/master/docs/source/examples/Index.ipynb"
   ]
  },
  {
   "cell_type": "code",
   "execution_count": null,
   "metadata": {
    "collapsed": true
   },
   "outputs": [],
   "source": []
  }
 ],
 "metadata": {
  "kernelspec": {
   "display_name": "Python [conda env:py35]",
   "language": "python",
   "name": "conda-env-py35-py"
  },
  "language_info": {
   "codemirror_mode": {
    "name": "ipython",
    "version": 3
   },
   "file_extension": ".py",
   "mimetype": "text/x-python",
   "name": "python",
   "nbconvert_exporter": "python",
   "pygments_lexer": "ipython3",
   "version": "3.5.3"
  }
 },
 "nbformat": 4,
 "nbformat_minor": 2
}
