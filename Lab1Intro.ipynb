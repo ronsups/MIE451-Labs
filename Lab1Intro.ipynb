{
 "cells": [
  {
   "cell_type": "markdown",
   "metadata": {},
   "source": [
    "# Lab 1: Jupyter and Python\n",
    "\n",
    "In this lab, you will load and perform a basic analysis of a text using python in a Jupyter interactive notebook.\n",
    "\n",
    "Follow the instruction and run the code cells. Make sure you understand what happens in every stage."
   ]
  },
  {
   "cell_type": "markdown",
   "metadata": {},
   "source": [
    "## Getting the data\n",
    "1. Download the story \"A Christmas Carol\" by Charles Dickens from Project Gutenberg website:\n",
    "    * Open this website: http://www.gutenberg.org/files/24022/24022-0.txt\n",
    "    * Save the file (File -> Save) locally\n",
    "    * Upload file to the same directory as notebook\n",
    "-----------\n",
    "## Loading the data\n",
    "* First we open the file using *open()*\n",
    "* **Make sure the file path is correct**"
   ]
  },
  {
   "cell_type": "code",
   "execution_count": 3,
   "metadata": {
    "collapsed": true
   },
   "outputs": [],
   "source": [
    "storyFile = open(r\"carol.txt\", \"r\")\n",
    "storyText = storyFile.read()"
   ]
  },
  {
   "cell_type": "markdown",
   "metadata": {},
   "source": [
    "----------\n",
    "## Review the data\n",
    "Lets print the first 500 character of the text"
   ]
  },
  {
   "cell_type": "code",
   "execution_count": 4,
   "metadata": {},
   "outputs": [
    {
     "name": "stdout",
     "output_type": "stream",
     "text": [
      "﻿The Project Gutenberg EBook of A Christmas Carol, by Charles Dickens\n",
      "\n",
      "This eBook is for the use of anyone anywhere at no cost and with\n",
      "almost no restrictions whatsoever.  You may copy it, give it away or\n",
      "re-use it under the terms of the Project Gutenberg License included\n",
      "with this eBook or online at www.gutenberg.org\n",
      "\n",
      "\n",
      "Title: A Christmas Carol\n",
      "\n",
      "Author: Charles Dickens\n",
      "\n",
      "Illustrator: Arthur Rackham\n",
      "\n",
      "Release Date: December 24, 2007 [EBook #24022]\n",
      "\n",
      "Language: English\n",
      "\n",
      "Character set encoding: UTF-8\n"
     ]
    }
   ],
   "source": [
    "print(storyText[0:500])"
   ]
  },
  {
   "cell_type": "markdown",
   "metadata": {},
   "source": [
    "----------\n",
    "Now, lets print the PREFACE. It start at character 1205:"
   ]
  },
  {
   "cell_type": "code",
   "execution_count": 5,
   "metadata": {},
   "outputs": [
    {
     "name": "stdout",
     "output_type": "stream",
     "text": [
      "  PREFACE\n",
      "\n",
      "  I have endeavoured in this Ghostly little book to raise the Ghost of an\n",
      "  Idea which shall not put my readers out of humour with themselves, with\n",
      "  each other, with the season, or with me. May it haunt their house\n",
      "  pleasantly, and no one wish to lay it.\n"
     ]
    }
   ],
   "source": [
    "print(storyText[1205:1472])"
   ]
  },
  {
   "cell_type": "markdown",
   "metadata": {},
   "source": [
    "---------\n",
    "## Counting the number of lines in the story\n",
    "We start by splitting the text to a list of lines using *splitlines()*"
   ]
  },
  {
   "cell_type": "code",
   "execution_count": 6,
   "metadata": {
    "collapsed": true
   },
   "outputs": [],
   "source": [
    "storyLines = storyText.splitlines()"
   ]
  },
  {
   "cell_type": "markdown",
   "metadata": {},
   "source": [
    "---------\n",
    "Now we print the first 10 lines:"
   ]
  },
  {
   "cell_type": "code",
   "execution_count": 7,
   "metadata": {},
   "outputs": [
    {
     "data": {
      "text/plain": [
       "['\\xef\\xbb\\xbfThe Project Gutenberg EBook of A Christmas Carol, by Charles Dickens',\n",
       " '',\n",
       " 'This eBook is for the use of anyone anywhere at no cost and with',\n",
       " 'almost no restrictions whatsoever.  You may copy it, give it away or',\n",
       " 're-use it under the terms of the Project Gutenberg License included',\n",
       " 'with this eBook or online at www.gutenberg.org',\n",
       " '',\n",
       " '',\n",
       " 'Title: A Christmas Carol',\n",
       " '']"
      ]
     },
     "execution_count": 7,
     "metadata": {},
     "output_type": "execute_result"
    }
   ],
   "source": [
    "storyLines[0:10]"
   ]
  },
  {
   "cell_type": "markdown",
   "metadata": {},
   "source": [
    "----------\n",
    "Last, we count the lines using *len()* method:"
   ]
  },
  {
   "cell_type": "code",
   "execution_count": 8,
   "metadata": {},
   "outputs": [
    {
     "name": "stdout",
     "output_type": "stream",
     "text": [
      "('The number of lines in the text is:', 3976)\n"
     ]
    }
   ],
   "source": [
    "print(\"The number of lines in the text is:\", len(storyLines))"
   ]
  },
  {
   "cell_type": "markdown",
   "metadata": {},
   "source": [
    "---------\n",
    "## Counting the number of words in the story\n",
    "We start by splitting the text to a list of words using *split()*"
   ]
  },
  {
   "cell_type": "code",
   "execution_count": 9,
   "metadata": {
    "collapsed": true
   },
   "outputs": [],
   "source": [
    "storyWords = storyText.split()"
   ]
  },
  {
   "cell_type": "markdown",
   "metadata": {},
   "source": [
    "---------\n",
    "Now we print the first 10 words:"
   ]
  },
  {
   "cell_type": "code",
   "execution_count": 10,
   "metadata": {},
   "outputs": [
    {
     "data": {
      "text/plain": [
       "['\\xef\\xbb\\xbfThe',\n",
       " 'Project',\n",
       " 'Gutenberg',\n",
       " 'EBook',\n",
       " 'of',\n",
       " 'A',\n",
       " 'Christmas',\n",
       " 'Carol,',\n",
       " 'by',\n",
       " 'Charles']"
      ]
     },
     "execution_count": 10,
     "metadata": {},
     "output_type": "execute_result"
    }
   ],
   "source": [
    "storyWords[:10]"
   ]
  },
  {
   "cell_type": "markdown",
   "metadata": {},
   "source": [
    "----------\n",
    "Last, we count the words using *len()* on the list of words:"
   ]
  },
  {
   "cell_type": "code",
   "execution_count": 11,
   "metadata": {},
   "outputs": [
    {
     "name": "stdout",
     "output_type": "stream",
     "text": [
      "('The number of words in the text is:', 32430)\n"
     ]
    }
   ],
   "source": [
    "print(\"The number of words in the text is:\", len(storyWords))"
   ]
  },
  {
   "cell_type": "markdown",
   "metadata": {},
   "source": [
    "## Counting the number of lines containing a word"
   ]
  },
  {
   "cell_type": "code",
   "execution_count": 12,
   "metadata": {
    "collapsed": true
   },
   "outputs": [],
   "source": [
    "linesCounter = 0\n",
    "for line in storyLines:\n",
    "    if \"christmas\" in line.lower():\n",
    "        linesCounter += 1"
   ]
  },
  {
   "cell_type": "code",
   "execution_count": 13,
   "metadata": {},
   "outputs": [
    {
     "name": "stdout",
     "output_type": "stream",
     "text": [
      "(\"The number of lines with the word 'Christmas' is:\", 95)\n"
     ]
    }
   ],
   "source": [
    "print(\"The number of lines with the word 'Christmas' is:\", linesCounter)"
   ]
  },
  {
   "cell_type": "markdown",
   "metadata": {},
   "source": [
    "## Counting the number of different words"
   ]
  },
  {
   "cell_type": "code",
   "execution_count": 14,
   "metadata": {
    "collapsed": true
   },
   "outputs": [],
   "source": [
    "# remove non-alphanumeric characters and convert to lower case\n",
    "editedWords = [word.strip(\"\"\" ,.*()[]!@#$%^&*{}?'`\"-\"\"\").lower() \n",
    "               for word in storyWords]"
   ]
  },
  {
   "cell_type": "code",
   "execution_count": 15,
   "metadata": {},
   "outputs": [
    {
     "name": "stdout",
     "output_type": "stream",
     "text": [
      "('number of different words: ', 5273)\n"
     ]
    }
   ],
   "source": [
    "print(\"number of different words: \", len(list(set(editedWords))))"
   ]
  },
  {
   "cell_type": "markdown",
   "metadata": {},
   "source": [
    "## Using *Counter* collection\n",
    "We can use *Counter* to count the frequency of every item in a list."
   ]
  },
  {
   "cell_type": "code",
   "execution_count": 16,
   "metadata": {
    "collapsed": true
   },
   "outputs": [],
   "source": [
    "from collections import Counter\n",
    "wordsCounter = Counter(editedWords)"
   ]
  },
  {
   "cell_type": "markdown",
   "metadata": {},
   "source": [
    "---------\n",
    "What is the number of occurrences of the word 'Christmas'?"
   ]
  },
  {
   "cell_type": "code",
   "execution_count": 17,
   "metadata": {},
   "outputs": [
    {
     "data": {
      "text/plain": [
       "93"
      ]
     },
     "execution_count": 17,
     "metadata": {},
     "output_type": "execute_result"
    }
   ],
   "source": [
    "wordsCounter[\"christmas\"]"
   ]
  },
  {
   "cell_type": "markdown",
   "metadata": {},
   "source": [
    "---------\n",
    "What are the 10 most common words?"
   ]
  },
  {
   "cell_type": "code",
   "execution_count": 18,
   "metadata": {},
   "outputs": [
    {
     "data": {
      "text/plain": [
       "[('the', 1776),\n",
       " ('and', 1141),\n",
       " ('of', 814),\n",
       " ('a', 781),\n",
       " ('to', 759),\n",
       " ('in', 589),\n",
       " ('it', 525),\n",
       " ('he', 490),\n",
       " ('was', 428),\n",
       " ('his', 425)]"
      ]
     },
     "execution_count": 18,
     "metadata": {},
     "output_type": "execute_result"
    }
   ],
   "source": [
    "wordsCounter.most_common(10)"
   ]
  },
  {
   "cell_type": "markdown",
   "metadata": {},
   "source": [
    "-------\n",
    "## Finding a phrase in the text\n",
    "\n",
    "Let find the first occurrence of the phrase \"Ding, dong!\" in the text."
   ]
  },
  {
   "cell_type": "code",
   "execution_count": 19,
   "metadata": {},
   "outputs": [
    {
     "data": {
      "text/plain": [
       "45967"
      ]
     },
     "execution_count": 19,
     "metadata": {},
     "output_type": "execute_result"
    }
   ],
   "source": [
    "storyText.find(\"Ding, dong!\")"
   ]
  },
  {
   "cell_type": "markdown",
   "metadata": {},
   "source": [
    "-------\n",
    "Lets examine the text around this position"
   ]
  },
  {
   "cell_type": "code",
   "execution_count": 20,
   "metadata": {},
   "outputs": [
    {
     "name": "stdout",
     "output_type": "stream",
     "text": [
      "rter was so long, that he was more than once convinced he must\n",
      "have sunk into a doze unconsciously, and missed the clock. At length it\n",
      "broke upon his listening ear.\n",
      "\n",
      "'Ding, dong!'\n",
      "\n",
      "'A quarter past,' said Scrooge, counting.\n",
      "\n",
      "'Ding, dong!'\n",
      "\n",
      "'Half past,\n"
     ]
    }
   ],
   "source": [
    "print(storyText[45800:46050])"
   ]
  },
  {
   "cell_type": "markdown",
   "metadata": {},
   "source": [
    "# Finding numbers in the text"
   ]
  },
  {
   "cell_type": "code",
   "execution_count": 21,
   "metadata": {
    "collapsed": true
   },
   "outputs": [],
   "source": [
    "numbersFound = []\n",
    "for number in range(1000):\n",
    "    numberLocation = storyText.find(str(number))\n",
    "    if numberLocation >= 0:\n",
    "        numbersFound.append(number)"
   ]
  },
  {
   "cell_type": "code",
   "execution_count": 22,
   "metadata": {},
   "outputs": [
    {
     "data": {
      "text/plain": [
       "134"
      ]
     },
     "execution_count": 22,
     "metadata": {},
     "output_type": "execute_result"
    }
   ],
   "source": [
    "len(numbersFound)"
   ]
  },
  {
   "cell_type": "code",
   "execution_count": 23,
   "metadata": {},
   "outputs": [
    {
     "data": {
      "text/plain": [
       "997"
      ]
     },
     "execution_count": 23,
     "metadata": {},
     "output_type": "execute_result"
    }
   ],
   "source": [
    "max(numbersFound)"
   ]
  }
 ],
 "metadata": {
  "kernelspec": {
   "display_name": "Python [default]",
   "language": "python",
   "name": "python2"
  },
  "language_info": {
   "codemirror_mode": {
    "name": "ipython",
    "version": 2
   },
   "file_extension": ".py",
   "mimetype": "text/x-python",
   "name": "python",
   "nbconvert_exporter": "python",
   "pygments_lexer": "ipython2",
   "version": "2.7.13"
  }
 },
 "nbformat": 4,
 "nbformat_minor": 2
}
